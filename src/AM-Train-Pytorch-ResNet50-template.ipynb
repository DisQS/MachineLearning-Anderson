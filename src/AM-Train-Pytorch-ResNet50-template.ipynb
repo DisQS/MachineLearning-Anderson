{
 "cells": [
  {
   "cell_type": "markdown",
   "metadata": {},
   "source": [
    "# Pytorch code percolation model with ResNet50"
   ]
  },
  {
   "cell_type": "markdown",
   "metadata": {},
   "source": [
    "## parameter choices"
   ]
  },
  {
   "cell_type": "code",
   "execution_count": 1,
   "metadata": {},
   "outputs": [
    {
     "name": "stdout",
     "output_type": "stream",
     "text": [
      "L20-100-s100 \n",
      " /storage/disqs/ML-Data/Anderson/Images/L20-100-s100\n",
      "PyTorch-resnet50-111111-e20 \n",
      " Model_PyTorch-resnet50-111111-e20_L20-100-s100.pth \n",
      " History_PyTorch-resnet50-111111-e20_L20-100-s100.pkl\n",
      "./L20-100-s100/ ./L20-100-s100/Model_PyTorch-resnet50-111111-e20_L20-100-s100.pth ./L20-100-s100/History_PyTorch-resnet50-111111-e20_L20-100-s100.pkl\n"
     ]
    }
   ],
   "source": [
    "myseed=111111\n",
    "width= 20\n",
    "nimages= 100\n",
    "img_sizeX= 100\n",
    "img_sizeY= img_sizeX\n",
    "\n",
    "validation_split= 0.1\n",
    "batch_size= 2048*2\n",
    "num_epochs= 20\n",
    "# mylr= 0.01\n",
    "# mywd= 1e-6\n",
    "\n",
    "dataname='L'+str(width)+'-'+str(nimages)+'-s'+str(img_sizeX)\n",
    "\n",
    "datapath = '/storage/disqs/'+'ML-Data/Anderson/Images/'+dataname # SC-RTP\n",
    "#datapath = '/mnt/DataDrive/'+'ML-Data/Anderson/Images/'+dataname # Ubuntu home RAR\n",
    "    \n",
    "print(dataname,\"\\n\",datapath)\n",
    "\n",
    "method='PyTorch-resnet50-'+str(myseed)+'-e'+str(num_epochs) #+'-bs'+str(batch_size)\n",
    "modelname = 'Model_'+method+'_'+dataname+'.pth'\n",
    "historyname = 'History_'+method+'_'+dataname+'.pkl'\n",
    "print(method,\"\\n\",modelname,\"\\n\",historyname)\n",
    "\n",
    "savepath = './'+dataname+'/'\n",
    "import os\n",
    "try:\n",
    "    os.mkdir(savepath)\n",
    "except FileExistsError:\n",
    "    pass\n",
    "\n",
    "modelpath = savepath+modelname\n",
    "historypath = savepath+historyname\n",
    "print(savepath,modelpath,historypath)"
   ]
  },
  {
   "cell_type": "markdown",
   "metadata": {},
   "source": [
    "## initializations"
   ]
  },
  {
   "cell_type": "code",
   "execution_count": 2,
   "metadata": {},
   "outputs": [],
   "source": [
    "%reload_ext autoreload\n",
    "%autoreload 2\n",
    "%matplotlib inline"
   ]
  },
  {
   "cell_type": "code",
   "execution_count": 3,
   "metadata": {},
   "outputs": [],
   "source": [
    "#seed=42\n",
    "import torch\n",
    "torch.manual_seed(myseed)\n",
    "import numpy as np\n",
    "np.random.seed(myseed+1)"
   ]
  },
  {
   "cell_type": "code",
   "execution_count": 4,
   "metadata": {},
   "outputs": [
    {
     "name": "stdout",
     "output_type": "stream",
     "text": [
      "torch version: 1.2.0\n",
      "sklearn version: 0.21.3\n"
     ]
    }
   ],
   "source": [
    "from __future__ import print_function, division\n",
    "# import os\n",
    "print('torch version:',torch.__version__)\n",
    "import sklearn\n",
    "print('sklearn version:', sklearn.__version__)"
   ]
  },
  {
   "cell_type": "code",
   "execution_count": 5,
   "metadata": {},
   "outputs": [],
   "source": [
    "import torchvision\n",
    "import torch.nn.functional as F\n",
    "import torch\n",
    "import torch.nn as nn\n",
    "import torch.optim as optim\n",
    "from torch.optim import lr_scheduler\n",
    "import torchvision\n",
    "from torchvision import datasets, models, transforms\n",
    "import matplotlib.pyplot as plt\n",
    "from sklearn.metrics import confusion_matrix\n",
    "from sklearn.preprocessing import LabelEncoder\n",
    "import numpy as np\n",
    "import time\n",
    "import os\n",
    "import copy"
   ]
  },
  {
   "cell_type": "code",
   "execution_count": 6,
   "metadata": {},
   "outputs": [
    {
     "name": "stdout",
     "output_type": "stream",
     "text": [
      "current device:  cpu torch.float32 torch.strided\n",
      "chosen device:  cuda:0\n"
     ]
    }
   ],
   "source": [
    "t=torch.Tensor()\n",
    "print('current device: ', t.device, t.dtype, t.layout)\n",
    "\n",
    "# switch to GPU if available\n",
    "device=t.device\n",
    "if torch.cuda.is_available():\n",
    "    device = torch.device(\"cuda:0\")\n",
    "print('chosen device: ',device)"
   ]
  },
  {
   "cell_type": "markdown",
   "metadata": {},
   "source": [
    "## starting the main code"
   ]
  },
  {
   "cell_type": "code",
   "execution_count": 7,
   "metadata": {},
   "outputs": [],
   "source": [
    "# img_sizeX= 100\n",
    "# img_sizeY= 100 #img_sizeX\n",
    "# validation_split= 0.1"
   ]
  },
  {
   "cell_type": "code",
   "execution_count": 8,
   "metadata": {},
   "outputs": [],
   "source": [
    "class MyImageFolder2(torchvision.datasets.ImageFolder):\n",
    "    \"\"\"Custom dataset that includes image file paths. Extends\n",
    "    torchvision.datasets.ImageFolder\n",
    "    \"\"\"\n",
    "\n",
    "    # override the __getitem__ method. this is the method that dataloader calls\n",
    "    def __getitem__(self, index):\n",
    "        # this is what ImageFolder normally returns \n",
    "        original_tuple = super(MyImageFolder2, self).__getitem__(index)\n",
    "        # the image file path\n",
    "        path = self.imgs[index][0]\n",
    "        # make a new tuple that includes original and the path\n",
    "        tuple_with_path = (original_tuple + (path,))\n",
    "        return tuple_with_path"
   ]
  },
  {
   "cell_type": "code",
   "execution_count": 9,
   "metadata": {},
   "outputs": [],
   "source": [
    "class Rescale(object):\n",
    "    \"\"\"Rescale the image in a sample to a given size.\n",
    "\n",
    "    Args:\n",
    "        output_size (tuple or int): Desired output size. If tuple, output is\n",
    "            matched to output_size. If int, smaller of image edges is matched\n",
    "            to output_size keeping aspect ratio the same.\n",
    "    \"\"\"\n",
    "\n",
    "    def __init__(self, output_size):\n",
    "        assert isinstance(output_size, (int, tuple))\n",
    "        self.output_size = output_size\n",
    "\n",
    "    def __call__(self, sample):\n",
    "        image, landmarks = sample['image'], sample['landmarks']\n",
    "\n",
    "        h, w = image.shape[:2]\n",
    "        if isinstance(self.output_size, int):\n",
    "            if h > w:\n",
    "                new_h, new_w = self.output_size * h / w, self.output_size\n",
    "            else:\n",
    "                new_h, new_w = self.output_size, self.output_size * w / h\n",
    "        else:\n",
    "            new_h, new_w = self.output_size\n",
    "\n",
    "        new_h, new_w = int(new_h), int(new_w)\n",
    "\n",
    "        img = transform.resize(image, (new_h, new_w))\n",
    "\n",
    "        # h and w are swapped for landmarks because for images,\n",
    "        # x and y axes are axis 1 and 0 respectively\n",
    "        landmarks = landmarks * [new_w / w, new_h / h]\n",
    "\n",
    "        return {'image': img, 'landmarks': landmarks}\n",
    "\n",
    "class ToTensor(object):\n",
    "    \"\"\"Convert ndarrays in sample to Tensors.\"\"\"\n",
    "\n",
    "    def __call__(self, sample):\n",
    "        image, landmarks = sample['image'], sample['landmarks']\n",
    "\n",
    "        # swap color axis because\n",
    "        # numpy image: H x W x C\n",
    "        # torch image: C X H X W\n",
    "        image = image.transpose((2, 0, 1))\n",
    "        return {'image': torch.from_numpy(image),\n",
    "                'landmarks': torch.from_numpy(landmarks)}"
   ]
  },
  {
   "cell_type": "code",
   "execution_count": 10,
   "metadata": {},
   "outputs": [],
   "source": [
    "training_set=0\n",
    "validation_set=0\n",
    "# dataname='L20-100-s100'\n",
    "# path='../../../../../../../media/phrhmb/Datasets_DisQS/'+dataname\n",
    "# path='/storage/disqs/'+'ML-Data/Anderson/Images/'+dataname\n",
    "\n",
    "transform=transforms.Compose([torchvision.transforms.Resize((32,32)),\n",
    "                              torchvision.transforms.ToTensor()])"
   ]
  },
  {
   "cell_type": "code",
   "execution_count": 11,
   "metadata": {},
   "outputs": [
    {
     "data": {
      "text/plain": [
       "'/home/physics/phsht/Projects/MachineLearning-Anderson/src'"
      ]
     },
     "execution_count": 11,
     "metadata": {},
     "output_type": "execute_result"
    }
   ],
   "source": [
    "os.getcwd()"
   ]
  },
  {
   "cell_type": "code",
   "execution_count": 12,
   "metadata": {},
   "outputs": [],
   "source": [
    "#path = datapath \n",
    "whole_dataset=MyImageFolder2(root=datapath, transform=transform)"
   ]
  },
  {
   "cell_type": "code",
   "execution_count": 13,
   "metadata": {},
   "outputs": [
    {
     "name": "stdout",
     "output_type": "stream",
     "text": [
      "1700\n"
     ]
    }
   ],
   "source": [
    "data_size = len(whole_dataset)\n",
    "print(data_size)\n",
    "# validation_split=0.1\n",
    "split=int(np.floor(validation_split*data_size))\n",
    "training=int(data_size-split)\n",
    "# split the data into training and validation\n",
    "training_set, validation_set= torch.utils.data.random_split(whole_dataset,(training,split))"
   ]
  },
  {
   "cell_type": "code",
   "execution_count": 14,
   "metadata": {},
   "outputs": [],
   "source": [
    "# batch_size=1024\n",
    "train = torch.utils.data.DataLoader(\n",
    "        dataset=training_set,\n",
    "        batch_size=batch_size,\n",
    "        shuffle=True)\n",
    "# enum_train=enumerate(train)\n",
    "# len_train=len(train)\n",
    "\n",
    "val = torch.utils.data.DataLoader(\n",
    "        dataset=validation_set,\n",
    "        batch_size=batch_size,\n",
    "        shuffle=False)\n",
    "# enum_val=enumerate(val)\n",
    "# len_val=len(val)\n",
    "# print(len_train,len_val)"
   ]
  },
  {
   "cell_type": "code",
   "execution_count": 15,
   "metadata": {},
   "outputs": [
    {
     "data": {
      "text/plain": [
       "['W15.0',\n",
       " 'W15.25',\n",
       " 'W15.5',\n",
       " 'W15.75',\n",
       " 'W16.0',\n",
       " 'W16.2',\n",
       " 'W16.3',\n",
       " 'W16.4',\n",
       " 'W16.5',\n",
       " 'W16.6',\n",
       " 'W16.7',\n",
       " 'W16.8',\n",
       " 'W17.0',\n",
       " 'W17.25',\n",
       " 'W17.5',\n",
       " 'W17.75',\n",
       " 'W18.0']"
      ]
     },
     "execution_count": 15,
     "metadata": {},
     "output_type": "execute_result"
    }
   ],
   "source": [
    "class_names =whole_dataset.classes\n",
    "class_names"
   ]
  },
  {
   "cell_type": "code",
   "execution_count": 16,
   "metadata": {},
   "outputs": [],
   "source": [
    "inputs,labels,path= next(iter(val))"
   ]
  },
  {
   "cell_type": "code",
   "execution_count": 17,
   "metadata": {},
   "outputs": [
    {
     "data": {
      "text/plain": [
       "torch.Size([170, 3, 32, 32])"
      ]
     },
     "execution_count": 17,
     "metadata": {},
     "output_type": "execute_result"
    }
   ],
   "source": [
    "inputs.shape"
   ]
  },
  {
   "cell_type": "code",
   "execution_count": 18,
   "metadata": {},
   "outputs": [
    {
     "data": {
      "text/plain": [
       "32"
      ]
     },
     "execution_count": 18,
     "metadata": {},
     "output_type": "execute_result"
    }
   ],
   "source": [
    "img_sizeX,img_sizeY= inputs.shape[-1],inputs.shape[-2]\n",
    "img_sizeY"
   ]
  },
  {
   "cell_type": "code",
   "execution_count": 19,
   "metadata": {},
   "outputs": [
    {
     "data": {
      "text/plain": [
       "torch.Size([170])"
      ]
     },
     "execution_count": 19,
     "metadata": {},
     "output_type": "execute_result"
    }
   ],
   "source": [
    "labels.shape"
   ]
  },
  {
   "cell_type": "code",
   "execution_count": 20,
   "metadata": {},
   "outputs": [
    {
     "name": "stdout",
     "output_type": "stream",
     "text": [
      "number of samples in the training set: 1530\n",
      "number of samples in the validation set: 170\n",
      "number of samples in a batch 1\n",
      "number of samples in a batch 1\n",
      "number of classes 17\n"
     ]
    }
   ],
   "source": [
    "num_of_train_samples = len(training_set) # total training samples\n",
    "num_of_test_samples = len(validation_set) #total validation samples\n",
    "steps_per_epoch = np.ceil(num_of_train_samples // batch_size)\n",
    "len_train=len(train)\n",
    "len_val=len(val)\n",
    "number_classes = len(class_names)\n",
    "print('number of samples in the training set:', num_of_train_samples)\n",
    "print('number of samples in the validation set:', num_of_test_samples )\n",
    "print('number of samples in a batch',len_train) \n",
    "print('number of samples in a batch',len_val)\n",
    "print('number of classes',number_classes )"
   ]
  },
  {
   "cell_type": "markdown",
   "metadata": {},
   "source": [
    "## building the CNN"
   ]
  },
  {
   "cell_type": "code",
   "execution_count": 21,
   "metadata": {},
   "outputs": [],
   "source": [
    "model=models.resnet50(pretrained=True, progress=True)\n",
    "\n",
    "num_ftrs = model.fc.in_features # number of input features of the last layer which is fully connected (fc)\n",
    "\n",
    "#We modify the last layer in order to have 2 output: percolating or not\n",
    "model.fc=nn.Linear(num_ftrs, number_classes )\n",
    " #the model is sent to the GPU\n",
    "model = model.to(device)"
   ]
  },
  {
   "cell_type": "code",
   "execution_count": 22,
   "metadata": {},
   "outputs": [
    {
     "name": "stdout",
     "output_type": "stream",
     "text": [
      "ResNet(\n",
      "  (conv1): Conv2d(3, 64, kernel_size=(7, 7), stride=(2, 2), padding=(3, 3), bias=False)\n",
      "  (bn1): BatchNorm2d(64, eps=1e-05, momentum=0.1, affine=True, track_running_stats=True)\n",
      "  (relu): ReLU(inplace=True)\n",
      "  (maxpool): MaxPool2d(kernel_size=3, stride=2, padding=1, dilation=1, ceil_mode=False)\n",
      "  (layer1): Sequential(\n",
      "    (0): Bottleneck(\n",
      "      (conv1): Conv2d(64, 64, kernel_size=(1, 1), stride=(1, 1), bias=False)\n",
      "      (bn1): BatchNorm2d(64, eps=1e-05, momentum=0.1, affine=True, track_running_stats=True)\n",
      "      (conv2): Conv2d(64, 64, kernel_size=(3, 3), stride=(1, 1), padding=(1, 1), bias=False)\n",
      "      (bn2): BatchNorm2d(64, eps=1e-05, momentum=0.1, affine=True, track_running_stats=True)\n",
      "      (conv3): Conv2d(64, 256, kernel_size=(1, 1), stride=(1, 1), bias=False)\n",
      "      (bn3): BatchNorm2d(256, eps=1e-05, momentum=0.1, affine=True, track_running_stats=True)\n",
      "      (relu): ReLU(inplace=True)\n",
      "      (downsample): Sequential(\n",
      "        (0): Conv2d(64, 256, kernel_size=(1, 1), stride=(1, 1), bias=False)\n",
      "        (1): BatchNorm2d(256, eps=1e-05, momentum=0.1, affine=True, track_running_stats=True)\n",
      "      )\n",
      "    )\n",
      "    (1): Bottleneck(\n",
      "      (conv1): Conv2d(256, 64, kernel_size=(1, 1), stride=(1, 1), bias=False)\n",
      "      (bn1): BatchNorm2d(64, eps=1e-05, momentum=0.1, affine=True, track_running_stats=True)\n",
      "      (conv2): Conv2d(64, 64, kernel_size=(3, 3), stride=(1, 1), padding=(1, 1), bias=False)\n",
      "      (bn2): BatchNorm2d(64, eps=1e-05, momentum=0.1, affine=True, track_running_stats=True)\n",
      "      (conv3): Conv2d(64, 256, kernel_size=(1, 1), stride=(1, 1), bias=False)\n",
      "      (bn3): BatchNorm2d(256, eps=1e-05, momentum=0.1, affine=True, track_running_stats=True)\n",
      "      (relu): ReLU(inplace=True)\n",
      "    )\n",
      "    (2): Bottleneck(\n",
      "      (conv1): Conv2d(256, 64, kernel_size=(1, 1), stride=(1, 1), bias=False)\n",
      "      (bn1): BatchNorm2d(64, eps=1e-05, momentum=0.1, affine=True, track_running_stats=True)\n",
      "      (conv2): Conv2d(64, 64, kernel_size=(3, 3), stride=(1, 1), padding=(1, 1), bias=False)\n",
      "      (bn2): BatchNorm2d(64, eps=1e-05, momentum=0.1, affine=True, track_running_stats=True)\n",
      "      (conv3): Conv2d(64, 256, kernel_size=(1, 1), stride=(1, 1), bias=False)\n",
      "      (bn3): BatchNorm2d(256, eps=1e-05, momentum=0.1, affine=True, track_running_stats=True)\n",
      "      (relu): ReLU(inplace=True)\n",
      "    )\n",
      "  )\n",
      "  (layer2): Sequential(\n",
      "    (0): Bottleneck(\n",
      "      (conv1): Conv2d(256, 128, kernel_size=(1, 1), stride=(1, 1), bias=False)\n",
      "      (bn1): BatchNorm2d(128, eps=1e-05, momentum=0.1, affine=True, track_running_stats=True)\n",
      "      (conv2): Conv2d(128, 128, kernel_size=(3, 3), stride=(2, 2), padding=(1, 1), bias=False)\n",
      "      (bn2): BatchNorm2d(128, eps=1e-05, momentum=0.1, affine=True, track_running_stats=True)\n",
      "      (conv3): Conv2d(128, 512, kernel_size=(1, 1), stride=(1, 1), bias=False)\n",
      "      (bn3): BatchNorm2d(512, eps=1e-05, momentum=0.1, affine=True, track_running_stats=True)\n",
      "      (relu): ReLU(inplace=True)\n",
      "      (downsample): Sequential(\n",
      "        (0): Conv2d(256, 512, kernel_size=(1, 1), stride=(2, 2), bias=False)\n",
      "        (1): BatchNorm2d(512, eps=1e-05, momentum=0.1, affine=True, track_running_stats=True)\n",
      "      )\n",
      "    )\n",
      "    (1): Bottleneck(\n",
      "      (conv1): Conv2d(512, 128, kernel_size=(1, 1), stride=(1, 1), bias=False)\n",
      "      (bn1): BatchNorm2d(128, eps=1e-05, momentum=0.1, affine=True, track_running_stats=True)\n",
      "      (conv2): Conv2d(128, 128, kernel_size=(3, 3), stride=(1, 1), padding=(1, 1), bias=False)\n",
      "      (bn2): BatchNorm2d(128, eps=1e-05, momentum=0.1, affine=True, track_running_stats=True)\n",
      "      (conv3): Conv2d(128, 512, kernel_size=(1, 1), stride=(1, 1), bias=False)\n",
      "      (bn3): BatchNorm2d(512, eps=1e-05, momentum=0.1, affine=True, track_running_stats=True)\n",
      "      (relu): ReLU(inplace=True)\n",
      "    )\n",
      "    (2): Bottleneck(\n",
      "      (conv1): Conv2d(512, 128, kernel_size=(1, 1), stride=(1, 1), bias=False)\n",
      "      (bn1): BatchNorm2d(128, eps=1e-05, momentum=0.1, affine=True, track_running_stats=True)\n",
      "      (conv2): Conv2d(128, 128, kernel_size=(3, 3), stride=(1, 1), padding=(1, 1), bias=False)\n",
      "      (bn2): BatchNorm2d(128, eps=1e-05, momentum=0.1, affine=True, track_running_stats=True)\n",
      "      (conv3): Conv2d(128, 512, kernel_size=(1, 1), stride=(1, 1), bias=False)\n",
      "      (bn3): BatchNorm2d(512, eps=1e-05, momentum=0.1, affine=True, track_running_stats=True)\n",
      "      (relu): ReLU(inplace=True)\n",
      "    )\n",
      "    (3): Bottleneck(\n",
      "      (conv1): Conv2d(512, 128, kernel_size=(1, 1), stride=(1, 1), bias=False)\n",
      "      (bn1): BatchNorm2d(128, eps=1e-05, momentum=0.1, affine=True, track_running_stats=True)\n",
      "      (conv2): Conv2d(128, 128, kernel_size=(3, 3), stride=(1, 1), padding=(1, 1), bias=False)\n",
      "      (bn2): BatchNorm2d(128, eps=1e-05, momentum=0.1, affine=True, track_running_stats=True)\n",
      "      (conv3): Conv2d(128, 512, kernel_size=(1, 1), stride=(1, 1), bias=False)\n",
      "      (bn3): BatchNorm2d(512, eps=1e-05, momentum=0.1, affine=True, track_running_stats=True)\n",
      "      (relu): ReLU(inplace=True)\n",
      "    )\n",
      "  )\n",
      "  (layer3): Sequential(\n",
      "    (0): Bottleneck(\n",
      "      (conv1): Conv2d(512, 256, kernel_size=(1, 1), stride=(1, 1), bias=False)\n",
      "      (bn1): BatchNorm2d(256, eps=1e-05, momentum=0.1, affine=True, track_running_stats=True)\n",
      "      (conv2): Conv2d(256, 256, kernel_size=(3, 3), stride=(2, 2), padding=(1, 1), bias=False)\n",
      "      (bn2): BatchNorm2d(256, eps=1e-05, momentum=0.1, affine=True, track_running_stats=True)\n",
      "      (conv3): Conv2d(256, 1024, kernel_size=(1, 1), stride=(1, 1), bias=False)\n",
      "      (bn3): BatchNorm2d(1024, eps=1e-05, momentum=0.1, affine=True, track_running_stats=True)\n",
      "      (relu): ReLU(inplace=True)\n",
      "      (downsample): Sequential(\n",
      "        (0): Conv2d(512, 1024, kernel_size=(1, 1), stride=(2, 2), bias=False)\n",
      "        (1): BatchNorm2d(1024, eps=1e-05, momentum=0.1, affine=True, track_running_stats=True)\n",
      "      )\n",
      "    )\n",
      "    (1): Bottleneck(\n",
      "      (conv1): Conv2d(1024, 256, kernel_size=(1, 1), stride=(1, 1), bias=False)\n",
      "      (bn1): BatchNorm2d(256, eps=1e-05, momentum=0.1, affine=True, track_running_stats=True)\n",
      "      (conv2): Conv2d(256, 256, kernel_size=(3, 3), stride=(1, 1), padding=(1, 1), bias=False)\n",
      "      (bn2): BatchNorm2d(256, eps=1e-05, momentum=0.1, affine=True, track_running_stats=True)\n",
      "      (conv3): Conv2d(256, 1024, kernel_size=(1, 1), stride=(1, 1), bias=False)\n",
      "      (bn3): BatchNorm2d(1024, eps=1e-05, momentum=0.1, affine=True, track_running_stats=True)\n",
      "      (relu): ReLU(inplace=True)\n",
      "    )\n",
      "    (2): Bottleneck(\n",
      "      (conv1): Conv2d(1024, 256, kernel_size=(1, 1), stride=(1, 1), bias=False)\n",
      "      (bn1): BatchNorm2d(256, eps=1e-05, momentum=0.1, affine=True, track_running_stats=True)\n",
      "      (conv2): Conv2d(256, 256, kernel_size=(3, 3), stride=(1, 1), padding=(1, 1), bias=False)\n",
      "      (bn2): BatchNorm2d(256, eps=1e-05, momentum=0.1, affine=True, track_running_stats=True)\n",
      "      (conv3): Conv2d(256, 1024, kernel_size=(1, 1), stride=(1, 1), bias=False)\n",
      "      (bn3): BatchNorm2d(1024, eps=1e-05, momentum=0.1, affine=True, track_running_stats=True)\n",
      "      (relu): ReLU(inplace=True)\n",
      "    )\n",
      "    (3): Bottleneck(\n",
      "      (conv1): Conv2d(1024, 256, kernel_size=(1, 1), stride=(1, 1), bias=False)\n",
      "      (bn1): BatchNorm2d(256, eps=1e-05, momentum=0.1, affine=True, track_running_stats=True)\n",
      "      (conv2): Conv2d(256, 256, kernel_size=(3, 3), stride=(1, 1), padding=(1, 1), bias=False)\n",
      "      (bn2): BatchNorm2d(256, eps=1e-05, momentum=0.1, affine=True, track_running_stats=True)\n",
      "      (conv3): Conv2d(256, 1024, kernel_size=(1, 1), stride=(1, 1), bias=False)\n",
      "      (bn3): BatchNorm2d(1024, eps=1e-05, momentum=0.1, affine=True, track_running_stats=True)\n",
      "      (relu): ReLU(inplace=True)\n",
      "    )\n",
      "    (4): Bottleneck(\n",
      "      (conv1): Conv2d(1024, 256, kernel_size=(1, 1), stride=(1, 1), bias=False)\n",
      "      (bn1): BatchNorm2d(256, eps=1e-05, momentum=0.1, affine=True, track_running_stats=True)\n",
      "      (conv2): Conv2d(256, 256, kernel_size=(3, 3), stride=(1, 1), padding=(1, 1), bias=False)\n",
      "      (bn2): BatchNorm2d(256, eps=1e-05, momentum=0.1, affine=True, track_running_stats=True)\n",
      "      (conv3): Conv2d(256, 1024, kernel_size=(1, 1), stride=(1, 1), bias=False)\n",
      "      (bn3): BatchNorm2d(1024, eps=1e-05, momentum=0.1, affine=True, track_running_stats=True)\n",
      "      (relu): ReLU(inplace=True)\n",
      "    )\n",
      "    (5): Bottleneck(\n",
      "      (conv1): Conv2d(1024, 256, kernel_size=(1, 1), stride=(1, 1), bias=False)\n",
      "      (bn1): BatchNorm2d(256, eps=1e-05, momentum=0.1, affine=True, track_running_stats=True)\n",
      "      (conv2): Conv2d(256, 256, kernel_size=(3, 3), stride=(1, 1), padding=(1, 1), bias=False)\n",
      "      (bn2): BatchNorm2d(256, eps=1e-05, momentum=0.1, affine=True, track_running_stats=True)\n",
      "      (conv3): Conv2d(256, 1024, kernel_size=(1, 1), stride=(1, 1), bias=False)\n",
      "      (bn3): BatchNorm2d(1024, eps=1e-05, momentum=0.1, affine=True, track_running_stats=True)\n",
      "      (relu): ReLU(inplace=True)\n",
      "    )\n",
      "  )\n",
      "  (layer4): Sequential(\n",
      "    (0): Bottleneck(\n",
      "      (conv1): Conv2d(1024, 512, kernel_size=(1, 1), stride=(1, 1), bias=False)\n",
      "      (bn1): BatchNorm2d(512, eps=1e-05, momentum=0.1, affine=True, track_running_stats=True)\n",
      "      (conv2): Conv2d(512, 512, kernel_size=(3, 3), stride=(2, 2), padding=(1, 1), bias=False)\n",
      "      (bn2): BatchNorm2d(512, eps=1e-05, momentum=0.1, affine=True, track_running_stats=True)\n",
      "      (conv3): Conv2d(512, 2048, kernel_size=(1, 1), stride=(1, 1), bias=False)\n",
      "      (bn3): BatchNorm2d(2048, eps=1e-05, momentum=0.1, affine=True, track_running_stats=True)\n",
      "      (relu): ReLU(inplace=True)\n",
      "      (downsample): Sequential(\n",
      "        (0): Conv2d(1024, 2048, kernel_size=(1, 1), stride=(2, 2), bias=False)\n",
      "        (1): BatchNorm2d(2048, eps=1e-05, momentum=0.1, affine=True, track_running_stats=True)\n",
      "      )\n",
      "    )\n",
      "    (1): Bottleneck(\n",
      "      (conv1): Conv2d(2048, 512, kernel_size=(1, 1), stride=(1, 1), bias=False)\n",
      "      (bn1): BatchNorm2d(512, eps=1e-05, momentum=0.1, affine=True, track_running_stats=True)\n",
      "      (conv2): Conv2d(512, 512, kernel_size=(3, 3), stride=(1, 1), padding=(1, 1), bias=False)\n",
      "      (bn2): BatchNorm2d(512, eps=1e-05, momentum=0.1, affine=True, track_running_stats=True)\n",
      "      (conv3): Conv2d(512, 2048, kernel_size=(1, 1), stride=(1, 1), bias=False)\n",
      "      (bn3): BatchNorm2d(2048, eps=1e-05, momentum=0.1, affine=True, track_running_stats=True)\n",
      "      (relu): ReLU(inplace=True)\n",
      "    )\n",
      "    (2): Bottleneck(\n",
      "      (conv1): Conv2d(2048, 512, kernel_size=(1, 1), stride=(1, 1), bias=False)\n",
      "      (bn1): BatchNorm2d(512, eps=1e-05, momentum=0.1, affine=True, track_running_stats=True)\n",
      "      (conv2): Conv2d(512, 512, kernel_size=(3, 3), stride=(1, 1), padding=(1, 1), bias=False)\n",
      "      (bn2): BatchNorm2d(512, eps=1e-05, momentum=0.1, affine=True, track_running_stats=True)\n",
      "      (conv3): Conv2d(512, 2048, kernel_size=(1, 1), stride=(1, 1), bias=False)\n",
      "      (bn3): BatchNorm2d(2048, eps=1e-05, momentum=0.1, affine=True, track_running_stats=True)\n",
      "      (relu): ReLU(inplace=True)\n",
      "    )\n",
      "  )\n",
      "  (avgpool): AdaptiveAvgPool2d(output_size=(1, 1))\n",
      "  (fc): Linear(in_features=2048, out_features=17, bias=True)\n",
      ")\n"
     ]
    }
   ],
   "source": [
    "# defining the optimizer\n",
    "\n",
    "optimizer=torch.optim.Adadelta(model.parameters(), lr=1.0, rho=0.9, eps=1e-06, weight_decay=0)\n",
    "# defining the loss function\n",
    "criterion = nn.CrossEntropyLoss()\n",
    "\n",
    "exp_lr_scheduler = lr_scheduler.StepLR(optimizer, step_size=7, gamma=0.1)\n",
    "\n",
    "# checking if GPU is available\n",
    "if torch.cuda.is_available():\n",
    "    model = model.cuda()\n",
    "    criterion = criterion.cuda()\n",
    "    \n",
    "print(model)"
   ]
  },
  {
   "cell_type": "code",
   "execution_count": 23,
   "metadata": {},
   "outputs": [],
   "source": [
    "# # Print model's state_dict\n",
    "# print(\"Model's state_dict:\")\n",
    "# for param_tensor in model.state_dict():\n",
    "#     print(param_tensor, \"\\t\", model.state_dict()[param_tensor].size())\n",
    "\n",
    "# # Print optimizer's state_dict\n",
    "# print(\"Optimizer's state_dict:\")\n",
    "# for var_name in optimizer.state_dict():\n",
    "#     print(var_name, \"\\t\", optimizer.state_dict()[var_name])"
   ]
  },
  {
   "cell_type": "code",
   "execution_count": 24,
   "metadata": {},
   "outputs": [],
   "source": [
    "# for param in model.parameters():\n",
    "#     print(param.shape)"
   ]
  },
  {
   "cell_type": "code",
   "execution_count": 25,
   "metadata": {},
   "outputs": [],
   "source": [
    "#the model is sent to the GPU\n",
    "model = model.to(device)"
   ]
  },
  {
   "cell_type": "code",
   "execution_count": 26,
   "metadata": {},
   "outputs": [],
   "source": [
    "def train_model(model,criterion, optimizer, num_epochs, scheduler, batch_size):\n",
    "    global accuracy, _loss, val_accuracy, val_loss, epochs, val_epochs \n",
    "    since=time.time()\n",
    "    \n",
    "    best_model_wts = copy.deepcopy(model.state_dict())\n",
    "    best_acc = 0.0\n",
    "    accuracy=[]\n",
    "    _loss=[]\n",
    "    val_accuracy=[]\n",
    "    val_loss=[]\n",
    "    epochs=[]\n",
    "    val_epochs=[]\n",
    "       \n",
    "    for epoch in range(num_epochs):\n",
    "        print('Epoch {}/{}'.format(epoch+1,num_epochs))\n",
    "        print('-' * 10)\n",
    "        \n",
    "        #two phases: training and validating\n",
    "        for phase in [train,val]:\n",
    "            if phase == train:\n",
    "                print('Training', end=\" \")\n",
    "                model.train() # set the model to training mode\n",
    "                batches= len_train\n",
    "            else:\n",
    "                print('Validation', end=\" \")\n",
    "                model.eval() # set the model to evaluation mode\n",
    "                batches= len_val\n",
    "                \n",
    "            #batches= len(list(enum_data))\n",
    "            print('with', batches, 'batches')\n",
    "            running_loss=0.0\n",
    "            running_corrects=0.0\n",
    "            \n",
    "            # Here's where the training happens\n",
    "            # print('--- iterating through data ...')\n",
    "            \n",
    "            for i, (inputs,labels,paths) in enumerate(phase):\n",
    "                \n",
    "                print(i*100//batches, '%', end=\"\\r\", flush=True)\n",
    "                \n",
    "                inputs=inputs.to(device)\n",
    "                labels=labels.to(device)\n",
    "                #paths=paths.to(device)\n",
    "                                \n",
    "                #put the gradient to zero to avoid accumulation during back propagation\n",
    "                optimizer.zero_grad()\n",
    "                                \n",
    "                #now we need to carry out the forward and backward process in different steps\n",
    "                #First the forward training\n",
    "                #for the training step we need to log the loss\n",
    "                with torch.set_grad_enabled(phase==train):\n",
    "                    outputs=model(inputs)\n",
    "                    _, preds= torch.max(outputs,1)\n",
    "                    loss=criterion(outputs,labels)\n",
    "                \n",
    "                #still for the training phase we need to implement backword process and optimization\n",
    "                \n",
    "                    if phase==train:\n",
    "                        loss.backward()\n",
    "                        optimizer.step()\n",
    "                        \n",
    "                # We want variables to hold the loss statistics\n",
    "                #loss.item() extract the loss value as float then it is multiply by the batch size\n",
    "                running_loss+=loss.item()*inputs.size(0)\n",
    "                running_corrects+= torch.sum(preds==labels.data)\n",
    "                \n",
    "            if phase == train:\n",
    "                scheduler.step()            \n",
    "            \n",
    "            if phase == train:\n",
    "                epoch_loss= running_loss/len(phase.dataset)\n",
    "                epoch_acc = running_corrects.double()/ len(phase.dataset)\n",
    "                print('{} loss= {:4f}, accuracy= {:4f}'.format(\n",
    "                    'Training result:', epoch_loss, epoch_acc))\n",
    "                accuracy.append(epoch_acc)\n",
    "                _loss.append(epoch_loss)\n",
    "                epochs.append(epoch)\n",
    "                \n",
    "            if phase == val:\n",
    "                epoch_loss= running_loss/len(val.dataset)\n",
    "                epoch_acc = running_corrects.double()/len(val.dataset)\n",
    "                print('{} val_loss= {:4f}, val_accuracy= {:4f}'.format(\n",
    "                    'Validation result:', epoch_loss, epoch_acc))\n",
    "                val_accuracy.append(epoch_acc)\n",
    "                val_loss.append(epoch_loss)\n",
    "                val_epochs.append(epoch)\n",
    "                \n",
    "            # Make a copy of the model if the accuracy on the validation set has improved\n",
    "            if phase == val and epoch_acc > best_acc:\n",
    "                best_acc = epoch_acc\n",
    "                best_model_wts = copy.deepcopy(model.state_dict())\n",
    "\n",
    "        print()\n",
    "\n",
    "    time_elapsed = time.time() - since\n",
    "    print('Training complete in {:.0f}m {:.0f}s'.format(\n",
    "        time_elapsed // 60, time_elapsed % 60))\n",
    "    print('Best val Acc: {:4f}'.format(best_acc))\n",
    "\n",
    "    # Now we'll load in the best model weights and return it\n",
    "    model.load_state_dict(best_model_wts)\n",
    "    return model        "
   ]
  },
  {
   "cell_type": "code",
   "execution_count": 27,
   "metadata": {},
   "outputs": [],
   "source": [
    "def visualize_model(model, num_images=6):\n",
    "    was_training = model.training\n",
    "    model.eval()\n",
    "    images_handeled = 0\n",
    "    fig = plt.figure()\n",
    "\n",
    "    with torch.no_grad():\n",
    "        for i, (inputs,labels,paths) in enumerate(val):\n",
    "\n",
    "            inputs=inputs.to(device)\n",
    "            labels=labels.to(device)\n",
    "\n",
    "            outputs = model(inputs) #value of the output neurons\n",
    "            _, preds = torch.max(outputs, 1) #gives the max value and stores in preds the neurons to which it belongs\n",
    "\n",
    "            for j in range(inputs.size()[0]):\n",
    "                images_handeled += 1\n",
    "                ax = plt.subplot(num_images//2, 2, images_handeled)\n",
    "                ax.axis('off')\n",
    "                ax.set_title('predicted: {}; \\n true label {}; \\n path: {};'.format(class_names[preds[j]] ,\n",
    "                                                                     class_names[labels[j]],paths[j])\n",
    "                            )\n",
    "                imshow(inputs.cpu().data[j])\n",
    "                \n",
    "                if images_handeled == num_images:\n",
    "                    model.train(mode=was_training)\n",
    "                    return\n",
    "        model.train(mode=was_training)"
   ]
  },
  {
   "cell_type": "code",
   "execution_count": 28,
   "metadata": {},
   "outputs": [],
   "source": [
    "def visualize_model_misclassified(model, num_images=6): #gives shows only the misclassified images\n",
    "    import re\n",
    "    was_training = model.training\n",
    "    model.eval()\n",
    "    images_so_far = 0\n",
    "    fig = plt.figure()\n",
    "\n",
    "    with torch.no_grad():\n",
    "        for i, (inputs,labels,paths) in enumerate(val):\n",
    "            \n",
    "            inputs=inputs.to(device)\n",
    "            labels=labels.to(device)\n",
    "            \n",
    "            outputs = model(inputs) #value of the output neurons\n",
    "            _, preds = torch.max(outputs, 1) #gives the max value and stores in preds the neurons to which it belongs\n",
    "\n",
    "            for j in range(inputs.size()[0]):\n",
    "                if labels[j]!=preds[j] and abs(labels[j]-preds[j])>4:\n",
    "                #print(inputs.size()[0])\n",
    "                    images_so_far += 1\n",
    "                    ax = plt.subplot(num_images//2, 2, images_so_far)\n",
    "                    ax.axis('off')\n",
    "                    ax.set_title('predicted: {}; \\n true label {}; \\n path: {};'.format(class_names[preds[j]] ,\n",
    "                                                                     class_names[labels[j]],paths[j])\n",
    "                            )\n",
    "                    imshow(inputs.cpu().data[j])\n",
    "                \n",
    "                    if images_so_far == num_images:\n",
    "                        model.train(mode=was_training)\n",
    "                        return\n",
    "        \n",
    "        model.train(mode=was_training)"
   ]
  },
  {
   "cell_type": "code",
   "execution_count": 29,
   "metadata": {},
   "outputs": [
    {
     "name": "stdout",
     "output_type": "stream",
     "text": [
      "Epoch 1/20\n",
      "----------\n",
      "Training with 1 batches\n",
      "Training result: loss= 2.937968, accuracy= 0.059477\n",
      "Validation with 1 batches\n",
      "Validation result: val_loss= 6.514519, val_accuracy= 0.047059\n",
      "\n",
      "Epoch 2/20\n",
      "----------\n",
      "Training with 1 batches\n",
      "Training result: loss= 3.714378, accuracy= 0.075163\n",
      "Validation with 1 batches\n",
      "Validation result: val_loss= 97.753906, val_accuracy= 0.070588\n",
      "\n",
      "Epoch 3/20\n",
      "----------\n",
      "Training with 1 batches\n",
      "Training result: loss= 3.283435, accuracy= 0.075163\n",
      "Validation with 1 batches\n",
      "Validation result: val_loss= 346.333588, val_accuracy= 0.094118\n",
      "\n",
      "Epoch 4/20\n",
      "----------\n",
      "Training with 1 batches\n",
      "Training result: loss= 3.103869, accuracy= 0.083007\n",
      "Validation with 1 batches\n",
      "Validation result: val_loss= 9.136158, val_accuracy= 0.047059\n",
      "\n",
      "Epoch 5/20\n",
      "----------\n",
      "Training with 1 batches\n",
      "Training result: loss= 2.835255, accuracy= 0.128758\n",
      "Validation with 1 batches\n",
      "Validation result: val_loss= 6.572920, val_accuracy= 0.076471\n",
      "\n",
      "Epoch 6/20\n",
      "----------\n",
      "Training with 1 batches\n",
      "Training result: loss= 2.791672, accuracy= 0.149020\n",
      "Validation with 1 batches\n",
      "Validation result: val_loss= 3.029756, val_accuracy= 0.100000\n",
      "\n",
      "Epoch 7/20\n",
      "----------\n",
      "Training with 1 batches\n",
      "Training result: loss= 2.806314, accuracy= 0.166013\n",
      "Validation with 1 batches\n",
      "Validation result: val_loss= 2.878526, val_accuracy= 0.064706\n",
      "\n",
      "Epoch 8/20\n",
      "----------\n",
      "Training with 1 batches\n",
      "Training result: loss= 2.660650, accuracy= 0.178431\n",
      "Validation with 1 batches\n",
      "Validation result: val_loss= 2.826777, val_accuracy= 0.082353\n",
      "\n",
      "Epoch 9/20\n",
      "----------\n",
      "Training with 1 batches\n",
      "Training result: loss= 2.611430, accuracy= 0.202614\n",
      "Validation with 1 batches\n",
      "Validation result: val_loss= 2.796124, val_accuracy= 0.076471\n",
      "\n",
      "Epoch 10/20\n",
      "----------\n",
      "Training with 1 batches\n",
      "Training result: loss= 2.578640, accuracy= 0.215686\n",
      "Validation with 1 batches\n",
      "Validation result: val_loss= 2.780254, val_accuracy= 0.082353\n",
      "\n",
      "Epoch 11/20\n",
      "----------\n",
      "Training with 1 batches\n",
      "Training result: loss= 2.545965, accuracy= 0.239869\n",
      "Validation with 1 batches\n",
      "Validation result: val_loss= 2.769737, val_accuracy= 0.094118\n",
      "\n",
      "Epoch 12/20\n",
      "----------\n",
      "Training with 1 batches\n",
      "Training result: loss= 2.510621, accuracy= 0.260784\n",
      "Validation with 1 batches\n",
      "Validation result: val_loss= 2.762342, val_accuracy= 0.082353\n",
      "\n",
      "Epoch 13/20\n",
      "----------\n",
      "Training with 1 batches\n",
      "Training result: loss= 2.477833, accuracy= 0.280392\n",
      "Validation with 1 batches\n",
      "Validation result: val_loss= 2.756919, val_accuracy= 0.070588\n",
      "\n",
      "Epoch 14/20\n",
      "----------\n",
      "Training with 1 batches\n",
      "Training result: loss= 2.438817, accuracy= 0.314379\n",
      "Validation with 1 batches\n",
      "Validation result: val_loss= 2.754023, val_accuracy= 0.058824\n",
      "\n",
      "Epoch 15/20\n",
      "----------\n",
      "Training with 1 batches\n",
      "Training result: loss= 2.401901, accuracy= 0.326797\n",
      "Validation with 1 batches\n",
      "Validation result: val_loss= 2.751093, val_accuracy= 0.064706\n",
      "\n",
      "Epoch 16/20\n",
      "----------\n",
      "Training with 1 batches\n",
      "Training result: loss= 2.389413, accuracy= 0.336601\n",
      "Validation with 1 batches\n",
      "Validation result: val_loss= 2.748744, val_accuracy= 0.064706\n",
      "\n",
      "Epoch 17/20\n",
      "----------\n",
      "Training with 1 batches\n",
      "Training result: loss= 2.378795, accuracy= 0.340523\n",
      "Validation with 1 batches\n",
      "Validation result: val_loss= 2.746782, val_accuracy= 0.058824\n",
      "\n",
      "Epoch 18/20\n",
      "----------\n",
      "Training with 1 batches\n",
      "Training result: loss= 2.368839, accuracy= 0.348366\n",
      "Validation with 1 batches\n",
      "Validation result: val_loss= 2.744933, val_accuracy= 0.070588\n",
      "\n",
      "Epoch 19/20\n",
      "----------\n",
      "Training with 1 batches\n",
      "Training result: loss= 2.359326, accuracy= 0.352941\n",
      "Validation with 1 batches\n",
      "Validation result: val_loss= 2.742927, val_accuracy= 0.070588\n",
      "\n",
      "Epoch 20/20\n",
      "----------\n",
      "Training with 1 batches\n",
      "Training result: loss= 2.350273, accuracy= 0.363399\n",
      "Validation with 1 batches\n",
      "Validation result: val_loss= 2.741010, val_accuracy= 0.082353\n",
      "\n",
      "Training complete in 0m 26s\n",
      "Best val Acc: 0.100000\n"
     ]
    }
   ],
   "source": [
    "# num_epochs=10\n",
    "base_model = train_model(\n",
    "    model, criterion, optimizer,num_epochs,exp_lr_scheduler,batch_size=batch_size )"
   ]
  },
  {
   "cell_type": "code",
   "execution_count": 30,
   "metadata": {
    "scrolled": false
   },
   "outputs": [
    {
     "data": {
      "image/png": "[encoded data removed]",
      "text/plain": [
       "<Figure size 432x288 with 1 Axes>"
      ]
     },
     "metadata": {
      "needs_background": "light"
     },
     "output_type": "display_data"
    }
   ],
   "source": [
    "fig=plt.figure()\n",
    "plt.plot(epochs,val_loss, label='val loss')\n",
    "plt.plot(epochs,_loss, label='training loss')\n",
    "plt.legend(loc='upper left')\n",
    "fig.savefig(savepath+method+'_'+dataname+'_loss'+'.png')"
   ]
  },
  {
   "cell_type": "code",
   "execution_count": 31,
   "metadata": {},
   "outputs": [
    {
     "data": {
      "image/png": "[encoded data removed]",
      "text/plain": [
       "<Figure size 432x288 with 1 Axes>"
      ]
     },
     "metadata": {
      "needs_background": "light"
     },
     "output_type": "display_data"
    }
   ],
   "source": [
    "fig=plt.figure()\n",
    "plt.plot(val_epochs,val_accuracy, label='val accuracy')\n",
    "plt.plot(epochs,accuracy, label='training accuracy')\n",
    "plt.legend(loc='upper left')\n",
    "fig.savefig(savepath+method+'_'+dataname+'_accuracy'+'.png')"
   ]
  },
  {
   "cell_type": "code",
   "execution_count": 32,
   "metadata": {},
   "outputs": [],
   "source": [
    "# PATH = './Anderson_'+dataname+'_resnet50_'+str(num_epochs)+'_epochs_batch_size'+str(batch_size)+'.pth'\n",
    "torch.save(model.state_dict(), modelpath)"
   ]
  },
  {
   "cell_type": "markdown",
   "metadata": {},
   "source": [
    "## testing the quality of the learned model"
   ]
  },
  {
   "cell_type": "code",
   "execution_count": 33,
   "metadata": {},
   "outputs": [
    {
     "name": "stdout",
     "output_type": "stream",
     "text": [
      "Accuracy of W15.0 : 10 %\n",
      "Accuracy of W15.25 : 27 %\n",
      "Accuracy of W15.5 :  0 %\n",
      "Accuracy of W15.75 :  0 %\n",
      "Accuracy of W16.0 :  0 %\n",
      "Accuracy of W16.2 : 50 %\n",
      "Accuracy of W16.3 :  0 %\n",
      "Accuracy of W16.4 :  0 %\n",
      "Accuracy of W16.5 :  0 %\n",
      "Accuracy of W16.6 :  0 %\n",
      "Accuracy of W16.7 :  0 %\n",
      "Accuracy of W16.8 : 62 %\n",
      "Accuracy of W17.0 :  0 %\n",
      "Accuracy of W17.25 :  0 %\n",
      "Accuracy of W17.5 :  0 %\n",
      "Accuracy of W17.75 :  0 %\n",
      "Accuracy of W18.0 :  0 %\n",
      "17\n"
     ]
    },
    {
     "data": {
      "image/png": "[encoded data removed]",
      "text/plain": [
       "<Figure size 1008x1008 with 1 Axes>"
      ]
     },
     "metadata": {
      "needs_background": "light"
     },
     "output_type": "display_data"
    }
   ],
   "source": [
    "class_correct = list(0. for i in range(number_classes))\n",
    "class_total = list(0. for i in range(number_classes))\n",
    "accuracy=list(0. for i in range(number_classes))\n",
    "average=list(0. for i in range(number_classes))\n",
    "with torch.no_grad():\n",
    "     for i, (data) in enumerate(val):\n",
    "        inputs=data[0]\n",
    "        labels=data[1]\n",
    "        \n",
    "        inputs = inputs.to(device)\n",
    "        labels = labels.to(device)\n",
    "        outputs = model(inputs)\n",
    "        _, preds = torch.max(outputs, 1) \n",
    "\n",
    "        c = (preds == labels).squeeze()\n",
    "        for i in range(inputs.size()[0]):\n",
    "            label = labels[i]\n",
    "            class_correct[label] += c[i].item()\n",
    "            class_total[label] += 1\n",
    "\n",
    "for i in range(number_classes):\n",
    "    average[i]=(class_correct[i] / class_total[i])*100\n",
    "    \n",
    "    print('Accuracy of %5s : %2d %%' % (\n",
    "        class_names[i], 100 * class_correct[i] / class_total[i]))\n",
    "\n",
    "print(len(average))\n",
    "#fig=plt.figure()\n",
    "plt.figure(figsize=(14,14))\n",
    "plt.plot(class_names,average)\n",
    "plt.savefig(savepath+method+'_'+dataname+'_classacc'+'.png')"
   ]
  },
  {
   "cell_type": "code",
   "execution_count": 34,
   "metadata": {},
   "outputs": [],
   "source": [
    "@torch.no_grad()\n",
    "def simple_confusion_matrix(model,loader):\n",
    "    confusion_matrix = torch.zeros(number_classes, number_classes)\n",
    "    for i, (data) in enumerate(loader):\n",
    "        inputs=data[0]\n",
    "        labels=data[1]\n",
    "        \n",
    "        inputs = inputs.to(device)\n",
    "        labels = labels.to(device)\n",
    "        outputs = model(inputs)\n",
    "        _, preds = torch.max(outputs, 1) \n",
    "        for t, p in zip(labels.view(-1), preds.view(-1)):\n",
    "            confusion_matrix[t.long(), p.long()] += 1\n",
    "                \n",
    "    return confusion_matrix"
   ]
  },
  {
   "cell_type": "code",
   "execution_count": 35,
   "metadata": {
    "scrolled": true
   },
   "outputs": [
    {
     "data": {
      "text/plain": [
       "tensor([[ 1.,  4.,  0.,  0.,  0.,  0.,  0.,  0.,  0.,  0.,  0.,  5.,  0.,  0.,\n",
       "          0.,  0.,  0.],\n",
       "        [ 0.,  3.,  0.,  0.,  0.,  2.,  0.,  0.,  0.,  0.,  0.,  6.,  0.,  0.,\n",
       "          0.,  0.,  0.],\n",
       "        [ 2.,  4.,  0.,  0.,  0.,  1.,  0.,  0.,  0.,  0.,  0.,  5.,  0.,  0.,\n",
       "          0.,  0.,  0.],\n",
       "        [ 0.,  1.,  0.,  0.,  0.,  2.,  0.,  0.,  0.,  0.,  0.,  4.,  0.,  0.,\n",
       "          0.,  0.,  0.],\n",
       "        [ 1.,  1.,  0.,  0.,  0.,  2.,  0.,  0.,  0.,  0.,  0.,  4.,  0.,  0.,\n",
       "          0.,  0.,  0.],\n",
       "        [ 1.,  1.,  0.,  0.,  0.,  3.,  0.,  0.,  0.,  0.,  0.,  1.,  0.,  0.,\n",
       "          0.,  0.,  0.],\n",
       "        [ 0.,  2.,  0.,  0.,  0.,  2.,  0.,  0.,  0.,  0.,  0.,  4.,  0.,  0.,\n",
       "          0.,  0.,  0.],\n",
       "        [ 0.,  2.,  0.,  0.,  0.,  2.,  0.,  0.,  0.,  0.,  0.,  7.,  0.,  0.,\n",
       "          0.,  0.,  0.],\n",
       "        [ 0.,  3.,  0.,  0.,  0.,  1.,  0.,  0.,  0.,  0.,  0.,  4.,  0.,  0.,\n",
       "          0.,  0.,  0.],\n",
       "        [ 1.,  3.,  0.,  0.,  0.,  0.,  0.,  0.,  0.,  0.,  0.,  6.,  0.,  0.,\n",
       "          0.,  0.,  0.],\n",
       "        [ 0.,  4.,  0.,  0.,  0.,  3.,  0.,  0.,  0.,  0.,  0.,  7.,  0.,  0.,\n",
       "          0.,  0.,  0.],\n",
       "        [ 0.,  4.,  0.,  0.,  0.,  2.,  0.,  0.,  0.,  0.,  0., 10.,  0.,  0.,\n",
       "          0.,  0.,  0.],\n",
       "        [ 0.,  1.,  0.,  0.,  0.,  1.,  0.,  0.,  0.,  0.,  0., 10.,  0.,  0.,\n",
       "          0.,  0.,  0.],\n",
       "        [ 0.,  0.,  0.,  0.,  0.,  3.,  0.,  0.,  0.,  0.,  0.,  3.,  0.,  0.,\n",
       "          0.,  0.,  0.],\n",
       "        [ 1.,  1.,  0.,  0.,  0.,  2.,  0.,  0.,  0.,  0.,  0., 10.,  0.,  0.,\n",
       "          0.,  0.,  0.],\n",
       "        [ 0.,  1.,  0.,  0.,  0.,  1.,  0.,  0.,  0.,  0.,  0.,  6.,  0.,  0.,\n",
       "          0.,  0.,  0.],\n",
       "        [ 0.,  1.,  0.,  0.,  0.,  0.,  0.,  0.,  0.,  0.,  0.,  8.,  0.,  0.,\n",
       "          0.,  0.,  0.]])"
      ]
     },
     "execution_count": 35,
     "metadata": {},
     "output_type": "execute_result"
    }
   ],
   "source": [
    "cm=simple_confusion_matrix(model,val)\n",
    "cm"
   ]
  },
  {
   "cell_type": "code",
   "execution_count": 36,
   "metadata": {},
   "outputs": [],
   "source": [
    "def confusion_matrix_torch(cm, target_names,cmap=None,title='Confusion Matrix'):\n",
    "    import matplotlib.pyplot as plt\n",
    "    import numpy as np\n",
    "    import itertools\n",
    "\n",
    "    #accuracy = np.trace(cm) / float(np.sum(cm))\n",
    "    #misclass = 1 - accuracy\n",
    "\n",
    "    if cmap is None:\n",
    "        cmap = plt.get_cmap('Blues')\n",
    "\n",
    "    fig=plt.figure(figsize=(25, 25))\n",
    "    plt.imshow(cm, interpolation='nearest', cmap=cmap)\n",
    "    plt.title(title)#,fontsize=40)\n",
    "    plt.colorbar()\n",
    "\n",
    "    if target_names is not None:\n",
    "        tick_marks = np.arange(len(target_names))\n",
    "        plt.xticks(tick_marks, target_names, rotation=45, fontsize=30)\n",
    "        plt.yticks(tick_marks, target_names,fontsize=30)\n",
    "\n",
    "    thresh = cm.max() / 2.\n",
    "    for i in range(cm.shape[0]):\n",
    "        for j in range(cm.shape[1]):\n",
    "            plt.text(j, i, format(cm[i, j]),\n",
    "                    ha=\"center\", va=\"center\",\n",
    "                    color=\"white\" if  cm[i, j] == 0 or cm[i, j] > thresh else \"black\") \n",
    "\n",
    "#     fig=plt.figure()\n",
    "    plt.tight_layout()\n",
    "    plt.ylabel('True label',fontsize=40)\n",
    "    plt.xlabel('Predicted label',fontsize=40)\n",
    "#     plt.show()\n",
    "    plt.savefig(savepath+method+'_'+dataname+'_CM'+'.png')\n",
    "    plt.show()"
   ]
  },
  {
   "cell_type": "code",
   "execution_count": 37,
   "metadata": {},
   "outputs": [
    {
     "data": {
      "image/png": "[encoded data removed]",
      "text/plain": [
       "<Figure size 1800x1800 with 2 Axes>"
      ]
     },
     "metadata": {
      "needs_background": "light"
     },
     "output_type": "display_data"
    }
   ],
   "source": [
    "confusion_matrix_torch(cm,class_names)"
   ]
  }
 ],
 "metadata": {
  "kernelspec": {
   "display_name": "Python 3",
   "language": "python",
   "name": "python3"
  },
  "language_info": {
   "codemirror_mode": {
    "name": "ipython",
    "version": 3
   },
   "file_extension": ".py",
   "mimetype": "text/x-python",
   "name": "python",
   "nbconvert_exporter": "python",
   "pygments_lexer": "ipython3",
   "version": "3.7.4"
  }
 },
 "nbformat": 4,
 "nbformat_minor": 4
}
